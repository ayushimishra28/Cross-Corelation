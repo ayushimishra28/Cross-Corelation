{
 "cells": [
  {
   "cell_type": "code",
   "execution_count": 74,
   "id": "f7237cec",
   "metadata": {},
   "outputs": [],
   "source": [
    "# Importing important libraries\n",
    "import pandas as pd\n",
    "import numpy as np\n",
    "import matplotlib.pyplot as plt\n",
    "from scipy.signal import correlate"
   ]
  },
  {
   "cell_type": "code",
   "execution_count": 75,
   "id": "e16d5ecc",
   "metadata": {},
   "outputs": [],
   "source": [
    "# Loading the exchanges\n",
    "bitsmap = pd.read_csv('Bitstamp_BTCUSD_2020_minute.csv')\n",
    "gemini = pd.read_csv('gemini_BTCUSD_2020_1min.csv')"
   ]
  },
  {
   "cell_type": "code",
   "execution_count": 76,
   "id": "95c327c1",
   "metadata": {},
   "outputs": [
    {
     "data": {
      "text/html": [
       "<div>\n",
       "<style scoped>\n",
       "    .dataframe tbody tr th:only-of-type {\n",
       "        vertical-align: middle;\n",
       "    }\n",
       "\n",
       "    .dataframe tbody tr th {\n",
       "        vertical-align: top;\n",
       "    }\n",
       "\n",
       "    .dataframe thead th {\n",
       "        text-align: right;\n",
       "    }\n",
       "</style>\n",
       "<table border=\"1\" class=\"dataframe\">\n",
       "  <thead>\n",
       "    <tr style=\"text-align: right;\">\n",
       "      <th></th>\n",
       "      <th>unix</th>\n",
       "      <th>date</th>\n",
       "      <th>symbol</th>\n",
       "      <th>open</th>\n",
       "      <th>high</th>\n",
       "      <th>low</th>\n",
       "      <th>close</th>\n",
       "      <th>Volume BTC</th>\n",
       "      <th>Volume USD</th>\n",
       "    </tr>\n",
       "  </thead>\n",
       "  <tbody>\n",
       "    <tr>\n",
       "      <th>0</th>\n",
       "      <td>1609459140</td>\n",
       "      <td>12/31/2020 23:59</td>\n",
       "      <td>BTC/USD</td>\n",
       "      <td>28982.44</td>\n",
       "      <td>29024.59</td>\n",
       "      <td>28969.83</td>\n",
       "      <td>28992.79</td>\n",
       "      <td>5.897679</td>\n",
       "      <td>170990.18290</td>\n",
       "    </tr>\n",
       "    <tr>\n",
       "      <th>1</th>\n",
       "      <td>1609459080</td>\n",
       "      <td>12/31/2020 23:58</td>\n",
       "      <td>BTC/USD</td>\n",
       "      <td>29044.79</td>\n",
       "      <td>29048.62</td>\n",
       "      <td>29000.12</td>\n",
       "      <td>29000.12</td>\n",
       "      <td>20.362289</td>\n",
       "      <td>590508.83780</td>\n",
       "    </tr>\n",
       "    <tr>\n",
       "      <th>2</th>\n",
       "      <td>1609459020</td>\n",
       "      <td>12/31/2020 23:57</td>\n",
       "      <td>BTC/USD</td>\n",
       "      <td>29039.53</td>\n",
       "      <td>29048.63</td>\n",
       "      <td>29023.26</td>\n",
       "      <td>29044.79</td>\n",
       "      <td>14.503728</td>\n",
       "      <td>421257.72150</td>\n",
       "    </tr>\n",
       "    <tr>\n",
       "      <th>3</th>\n",
       "      <td>1609458960</td>\n",
       "      <td>12/31/2020 23:56</td>\n",
       "      <td>BTC/USD</td>\n",
       "      <td>29052.02</td>\n",
       "      <td>29059.42</td>\n",
       "      <td>29039.28</td>\n",
       "      <td>29039.53</td>\n",
       "      <td>2.707583</td>\n",
       "      <td>78626.92585</td>\n",
       "    </tr>\n",
       "    <tr>\n",
       "      <th>4</th>\n",
       "      <td>1609458900</td>\n",
       "      <td>12/31/2020 23:55</td>\n",
       "      <td>BTC/USD</td>\n",
       "      <td>29036.10</td>\n",
       "      <td>29052.02</td>\n",
       "      <td>29025.78</td>\n",
       "      <td>29052.02</td>\n",
       "      <td>7.631439</td>\n",
       "      <td>221708.70540</td>\n",
       "    </tr>\n",
       "  </tbody>\n",
       "</table>\n",
       "</div>"
      ],
      "text/plain": [
       "         unix              date   symbol      open      high       low  \\\n",
       "0  1609459140  12/31/2020 23:59  BTC/USD  28982.44  29024.59  28969.83   \n",
       "1  1609459080  12/31/2020 23:58  BTC/USD  29044.79  29048.62  29000.12   \n",
       "2  1609459020  12/31/2020 23:57  BTC/USD  29039.53  29048.63  29023.26   \n",
       "3  1609458960  12/31/2020 23:56  BTC/USD  29052.02  29059.42  29039.28   \n",
       "4  1609458900  12/31/2020 23:55  BTC/USD  29036.10  29052.02  29025.78   \n",
       "\n",
       "      close  Volume BTC    Volume USD  \n",
       "0  28992.79    5.897679  170990.18290  \n",
       "1  29000.12   20.362289  590508.83780  \n",
       "2  29044.79   14.503728  421257.72150  \n",
       "3  29039.53    2.707583   78626.92585  \n",
       "4  29052.02    7.631439  221708.70540  "
      ]
     },
     "execution_count": 76,
     "metadata": {},
     "output_type": "execute_result"
    }
   ],
   "source": [
    "bitsmap.head()"
   ]
  },
  {
   "cell_type": "code",
   "execution_count": 77,
   "id": "8a8b0a76",
   "metadata": {},
   "outputs": [
    {
     "data": {
      "text/html": [
       "<div>\n",
       "<style scoped>\n",
       "    .dataframe tbody tr th:only-of-type {\n",
       "        vertical-align: middle;\n",
       "    }\n",
       "\n",
       "    .dataframe tbody tr th {\n",
       "        vertical-align: top;\n",
       "    }\n",
       "\n",
       "    .dataframe thead th {\n",
       "        text-align: right;\n",
       "    }\n",
       "</style>\n",
       "<table border=\"1\" class=\"dataframe\">\n",
       "  <thead>\n",
       "    <tr style=\"text-align: right;\">\n",
       "      <th></th>\n",
       "      <th>Unix Timestamp</th>\n",
       "      <th>Date</th>\n",
       "      <th>Symbol</th>\n",
       "      <th>Open</th>\n",
       "      <th>High</th>\n",
       "      <th>Low</th>\n",
       "      <th>Close</th>\n",
       "      <th>Volume</th>\n",
       "    </tr>\n",
       "  </thead>\n",
       "  <tbody>\n",
       "    <tr>\n",
       "      <th>0</th>\n",
       "      <td>1.609460e+12</td>\n",
       "      <td>12/31/2020 23:59</td>\n",
       "      <td>BTCUSD</td>\n",
       "      <td>28993.75</td>\n",
       "      <td>28995.49</td>\n",
       "      <td>28951.44</td>\n",
       "      <td>28979.74</td>\n",
       "      <td>0.337088</td>\n",
       "    </tr>\n",
       "    <tr>\n",
       "      <th>1</th>\n",
       "      <td>1.609460e+12</td>\n",
       "      <td>12/31/2020 23:58</td>\n",
       "      <td>BTCUSD</td>\n",
       "      <td>29017.39</td>\n",
       "      <td>29019.86</td>\n",
       "      <td>28993.75</td>\n",
       "      <td>28993.75</td>\n",
       "      <td>0.079929</td>\n",
       "    </tr>\n",
       "    <tr>\n",
       "      <th>2</th>\n",
       "      <td>1.609460e+12</td>\n",
       "      <td>12/31/2020 23:57</td>\n",
       "      <td>BTCUSD</td>\n",
       "      <td>29035.97</td>\n",
       "      <td>29035.97</td>\n",
       "      <td>29017.39</td>\n",
       "      <td>29017.39</td>\n",
       "      <td>0.013799</td>\n",
       "    </tr>\n",
       "    <tr>\n",
       "      <th>3</th>\n",
       "      <td>1.609460e+12</td>\n",
       "      <td>12/31/2020 23:56</td>\n",
       "      <td>BTCUSD</td>\n",
       "      <td>29036.19</td>\n",
       "      <td>29036.19</td>\n",
       "      <td>29022.59</td>\n",
       "      <td>29035.97</td>\n",
       "      <td>0.199008</td>\n",
       "    </tr>\n",
       "    <tr>\n",
       "      <th>4</th>\n",
       "      <td>1.609460e+12</td>\n",
       "      <td>12/31/2020 23:55</td>\n",
       "      <td>BTCUSD</td>\n",
       "      <td>29043.69</td>\n",
       "      <td>29043.69</td>\n",
       "      <td>29025.75</td>\n",
       "      <td>29036.19</td>\n",
       "      <td>0.082642</td>\n",
       "    </tr>\n",
       "  </tbody>\n",
       "</table>\n",
       "</div>"
      ],
      "text/plain": [
       "   Unix Timestamp              Date  Symbol      Open      High       Low  \\\n",
       "0    1.609460e+12  12/31/2020 23:59  BTCUSD  28993.75  28995.49  28951.44   \n",
       "1    1.609460e+12  12/31/2020 23:58  BTCUSD  29017.39  29019.86  28993.75   \n",
       "2    1.609460e+12  12/31/2020 23:57  BTCUSD  29035.97  29035.97  29017.39   \n",
       "3    1.609460e+12  12/31/2020 23:56  BTCUSD  29036.19  29036.19  29022.59   \n",
       "4    1.609460e+12  12/31/2020 23:55  BTCUSD  29043.69  29043.69  29025.75   \n",
       "\n",
       "      Close    Volume  \n",
       "0  28979.74  0.337088  \n",
       "1  28993.75  0.079929  \n",
       "2  29017.39  0.013799  \n",
       "3  29035.97  0.199008  \n",
       "4  29036.19  0.082642  "
      ]
     },
     "execution_count": 77,
     "metadata": {},
     "output_type": "execute_result"
    }
   ],
   "source": [
    "gemini.head()"
   ]
  },
  {
   "cell_type": "code",
   "execution_count": 78,
   "id": "1d4a2c0f",
   "metadata": {},
   "outputs": [
    {
     "data": {
      "text/plain": [
       "<matplotlib.legend.Legend at 0x1b41bb64e10>"
      ]
     },
     "execution_count": 78,
     "metadata": {},
     "output_type": "execute_result"
    },
    {
     "data": {
      "image/png": "[encoded data removed]",
      "text/plain": [
       "<Figure size 720x432 with 2 Axes>"
      ]
     },
     "metadata": {
      "needs_background": "light"
     },
     "output_type": "display_data"
    }
   ],
   "source": [
    "# Converting date column type to datetime\n",
    "bitsmap['date'] = pd.to_datetime(bitsmap['date'])\n",
    "gemini['Date'] = pd.to_datetime(gemini['Date'])\n",
    "\n",
    "# Plot the close price of both the exchanges\n",
    "fig, ax = plt.subplots(2, 1, figsize=(10, 6), sharex=True)\n",
    "plt.title('Close Price of Bitsmap and Gemini')\n",
    "ax[0].plot(bitsmap['date'], bitsmap['close'], color='b', label='Bitsmap')\n",
    "ax[0].legend()\n",
    "ax[1].plot(gemini['Date'], gemini['Close'], color='r', label='Gemini')\n",
    "ax[1].legend()"
   ]
  },
  {
   "cell_type": "code",
   "execution_count": 79,
   "id": "35161425",
   "metadata": {},
   "outputs": [],
   "source": [
    "# Renaming the columns of bitsmap \n",
    "bitsmap.rename(columns = {'close':'Close','date':'Date'}, inplace = True)\n",
    "\n",
    "# filtering the data to only data and close value\n",
    "bitsmap = bitsmap[['Date','Close']]\n",
    "gemini = gemini[['Date','Close']]\n",
    "df = bitsmap.merge(gemini, on = 'Date', how = 'inner', right_index = False)\n",
    "\n",
    "# Sorting the values according to date\n",
    "df.sort_values('Date', inplace = True)"
   ]
  },
  {
   "cell_type": "code",
   "execution_count": 80,
   "id": "579a3540",
   "metadata": {},
   "outputs": [],
   "source": [
    "# Calculating the cross corelation using scipy.signal.correlate function and method fft\n",
    "corr = correlate(df['Close_x'] , df['Close_y'], mode='same', method='fft') "
   ]
  },
  {
   "cell_type": "code",
   "execution_count": 81,
   "id": "84e7e9d8",
   "metadata": {},
   "outputs": [
    {
     "data": {
      "text/plain": [
       "[<matplotlib.lines.Line2D at 0x1b40c6f4f60>]"
      ]
     },
     "execution_count": 81,
     "metadata": {},
     "output_type": "execute_result"
    },
    {
     "data": {
      "image/png": "[encoded data removed]",
      "text/plain": [
       "<Figure size 1080x576 with 1 Axes>"
      ]
     },
     "metadata": {
      "needs_background": "light"
     },
     "output_type": "display_data"
    }
   ],
   "source": [
    "# plot for cross corelation for full year \n",
    "plt.figure(figsize = (15,8))\n",
    "plt.title('Cross Corelation between Bitsmap and Gemini \\n1 min close price for full year', fontsize = 20)\n",
    "plt.plot(corr)"
   ]
  },
  {
   "cell_type": "code",
   "execution_count": 82,
   "id": "618926e8",
   "metadata": {},
   "outputs": [
    {
     "name": "stdout",
     "output_type": "stream",
     "text": [
      "-1\n"
     ]
    }
   ],
   "source": [
    "# time delay between the bitsmap and gemini for full year 2020\n",
    "def compute_delay(x, y):\n",
    "    assert len(x) == len(y)\n",
    "    c = correlate(x, y, mode='same', method='fft')\n",
    "    assert len(c) == len(x)\n",
    "    zero_index = int(len(x) / 2) - 1\n",
    "    delay = zero_index - np.argmax(c)\n",
    "    return delay\n",
    "\n",
    "delay = compute_delay(df['Close_x'] , df['Close_y'])\n",
    "print(delay)"
   ]
  },
  {
   "cell_type": "code",
   "execution_count": 83,
   "id": "e0f42282",
   "metadata": {},
   "outputs": [
    {
     "name": "stdout",
     "output_type": "stream",
     "text": [
      "-1\n"
     ]
    }
   ],
   "source": [
    "# time delay between the bitsmap and gemini for january 2020\n",
    "new_df = df[df['Date']<'2020-02']\n",
    "corr = correlate(new_df['Close_x'], new_df['Close_y'], mode='same')\n",
    "delay = compute_delay(new_df['Close_x'], new_df['Close_y'])\n",
    "print(delay)"
   ]
  },
  {
   "cell_type": "code",
   "execution_count": 84,
   "id": "25824f54",
   "metadata": {},
   "outputs": [
    {
     "name": "stdout",
     "output_type": "stream",
     "text": [
      "-1\n"
     ]
    }
   ],
   "source": [
    "# time delay between the bitsmap and gemini for February 2020\n",
    "new_df = df[(df['Date']<'2020-03') & (df['Date']>'2020-02')] \n",
    "delay = compute_delay(new_df['Close_x'], new_df['Close_y'])\n",
    "print(delay)"
   ]
  },
  {
   "cell_type": "code",
   "execution_count": 85,
   "id": "84c15070",
   "metadata": {},
   "outputs": [
    {
     "name": "stdout",
     "output_type": "stream",
     "text": [
      "-1\n"
     ]
    }
   ],
   "source": [
    "# time delay between the bitsmap and gemini for March 2020\n",
    "new_df = df[(df['Date']<'2020-04') & (df['Date']>'2020-03')]\n",
    "delay = compute_delay(new_df['Close_x'], new_df['Close_y'])\n",
    "print(delay)"
   ]
  },
  {
   "cell_type": "code",
   "execution_count": 86,
   "id": "4190c8d4",
   "metadata": {},
   "outputs": [
    {
     "name": "stdout",
     "output_type": "stream",
     "text": [
      "-1\n"
     ]
    }
   ],
   "source": [
    "# time delay between the bitsmap and gemini for July 2020\n",
    "new_df = df[(df['Date']<'2020-08') & (df['Date']>'2020-07')]\n",
    "delay = compute_delay(new_df['Close_x'], new_df['Close_y'])\n",
    "print(delay)"
   ]
  },
  {
   "cell_type": "code",
   "execution_count": null,
   "id": "39414970",
   "metadata": {},
   "outputs": [],
   "source": []
  }
 ],
 "metadata": {
  "kernelspec": {
   "display_name": "Python 3 (ipykernel)",
   "language": "python",
   "name": "python3"
  },
  "language_info": {
   "codemirror_mode": {
    "name": "ipython",
    "version": 3
   },
   "file_extension": ".py",
   "mimetype": "text/x-python",
   "name": "python",
   "nbconvert_exporter": "python",
   "pygments_lexer": "ipython3",
   "version": "3.7.3"
  }
 },
 "nbformat": 4,
 "nbformat_minor": 5
}
