{
 "cells": [
  {
   "cell_type": "code",
   "execution_count": 65,
   "id": "8a9bfbce",
   "metadata": {},
   "outputs": [],
   "source": [
    "# Importing important libraries\n",
    "import pandas as pd\n",
    "import numpy as np\n",
    "import matplotlib.pyplot as plt\n",
    "from scipy.signal import correlate"
   ]
  },
  {
   "cell_type": "code",
   "execution_count": 66,
   "id": "ccad00d4",
   "metadata": {},
   "outputs": [],
   "source": [
    "# Loading the exchanges\n",
    "bitsmap = pd.read_csv('Bitstamp_BTCUSD_2020_minute.csv')\n",
    "gemini = pd.read_csv('gemini_BTCUSD_2020_1min.csv')\n",
    "binance = pd.read_csv('Binance_BTCUSDT_minute.csv')"
   ]
  },
  {
   "cell_type": "code",
   "execution_count": 67,
   "id": "0947dfe2",
   "metadata": {},
   "outputs": [
    {
     "data": {
      "text/html": [
       "<div>\n",
       "<style scoped>\n",
       "    .dataframe tbody tr th:only-of-type {\n",
       "        vertical-align: middle;\n",
       "    }\n",
       "\n",
       "    .dataframe tbody tr th {\n",
       "        vertical-align: top;\n",
       "    }\n",
       "\n",
       "    .dataframe thead th {\n",
       "        text-align: right;\n",
       "    }\n",
       "</style>\n",
       "<table border=\"1\" class=\"dataframe\">\n",
       "  <thead>\n",
       "    <tr style=\"text-align: right;\">\n",
       "      <th></th>\n",
       "      <th>unix</th>\n",
       "      <th>date</th>\n",
       "      <th>symbol</th>\n",
       "      <th>open</th>\n",
       "      <th>high</th>\n",
       "      <th>low</th>\n",
       "      <th>close</th>\n",
       "      <th>Volume BTC</th>\n",
       "      <th>Volume USD</th>\n",
       "    </tr>\n",
       "  </thead>\n",
       "  <tbody>\n",
       "    <tr>\n",
       "      <th>0</th>\n",
       "      <td>1609459140</td>\n",
       "      <td>12/31/2020 23:59</td>\n",
       "      <td>BTC/USD</td>\n",
       "      <td>28982.44</td>\n",
       "      <td>29024.59</td>\n",
       "      <td>28969.83</td>\n",
       "      <td>28992.79</td>\n",
       "      <td>5.897679</td>\n",
       "      <td>170990.18290</td>\n",
       "    </tr>\n",
       "    <tr>\n",
       "      <th>1</th>\n",
       "      <td>1609459080</td>\n",
       "      <td>12/31/2020 23:58</td>\n",
       "      <td>BTC/USD</td>\n",
       "      <td>29044.79</td>\n",
       "      <td>29048.62</td>\n",
       "      <td>29000.12</td>\n",
       "      <td>29000.12</td>\n",
       "      <td>20.362289</td>\n",
       "      <td>590508.83780</td>\n",
       "    </tr>\n",
       "    <tr>\n",
       "      <th>2</th>\n",
       "      <td>1609459020</td>\n",
       "      <td>12/31/2020 23:57</td>\n",
       "      <td>BTC/USD</td>\n",
       "      <td>29039.53</td>\n",
       "      <td>29048.63</td>\n",
       "      <td>29023.26</td>\n",
       "      <td>29044.79</td>\n",
       "      <td>14.503728</td>\n",
       "      <td>421257.72150</td>\n",
       "    </tr>\n",
       "    <tr>\n",
       "      <th>3</th>\n",
       "      <td>1609458960</td>\n",
       "      <td>12/31/2020 23:56</td>\n",
       "      <td>BTC/USD</td>\n",
       "      <td>29052.02</td>\n",
       "      <td>29059.42</td>\n",
       "      <td>29039.28</td>\n",
       "      <td>29039.53</td>\n",
       "      <td>2.707583</td>\n",
       "      <td>78626.92585</td>\n",
       "    </tr>\n",
       "    <tr>\n",
       "      <th>4</th>\n",
       "      <td>1609458900</td>\n",
       "      <td>12/31/2020 23:55</td>\n",
       "      <td>BTC/USD</td>\n",
       "      <td>29036.10</td>\n",
       "      <td>29052.02</td>\n",
       "      <td>29025.78</td>\n",
       "      <td>29052.02</td>\n",
       "      <td>7.631439</td>\n",
       "      <td>221708.70540</td>\n",
       "    </tr>\n",
       "  </tbody>\n",
       "</table>\n",
       "</div>"
      ],
      "text/plain": [
       "         unix              date   symbol      open      high       low  \\\n",
       "0  1609459140  12/31/2020 23:59  BTC/USD  28982.44  29024.59  28969.83   \n",
       "1  1609459080  12/31/2020 23:58  BTC/USD  29044.79  29048.62  29000.12   \n",
       "2  1609459020  12/31/2020 23:57  BTC/USD  29039.53  29048.63  29023.26   \n",
       "3  1609458960  12/31/2020 23:56  BTC/USD  29052.02  29059.42  29039.28   \n",
       "4  1609458900  12/31/2020 23:55  BTC/USD  29036.10  29052.02  29025.78   \n",
       "\n",
       "      close  Volume BTC    Volume USD  \n",
       "0  28992.79    5.897679  170990.18290  \n",
       "1  29000.12   20.362289  590508.83780  \n",
       "2  29044.79   14.503728  421257.72150  \n",
       "3  29039.53    2.707583   78626.92585  \n",
       "4  29052.02    7.631439  221708.70540  "
      ]
     },
     "execution_count": 67,
     "metadata": {},
     "output_type": "execute_result"
    }
   ],
   "source": [
    "bitsmap.head()"
   ]
  },
  {
   "cell_type": "code",
   "execution_count": 68,
   "id": "c3365b25",
   "metadata": {},
   "outputs": [
    {
     "data": {
      "text/html": [
       "<div>\n",
       "<style scoped>\n",
       "    .dataframe tbody tr th:only-of-type {\n",
       "        vertical-align: middle;\n",
       "    }\n",
       "\n",
       "    .dataframe tbody tr th {\n",
       "        vertical-align: top;\n",
       "    }\n",
       "\n",
       "    .dataframe thead th {\n",
       "        text-align: right;\n",
       "    }\n",
       "</style>\n",
       "<table border=\"1\" class=\"dataframe\">\n",
       "  <thead>\n",
       "    <tr style=\"text-align: right;\">\n",
       "      <th></th>\n",
       "      <th>Unix Timestamp</th>\n",
       "      <th>Date</th>\n",
       "      <th>Symbol</th>\n",
       "      <th>Open</th>\n",
       "      <th>High</th>\n",
       "      <th>Low</th>\n",
       "      <th>Close</th>\n",
       "      <th>Volume</th>\n",
       "    </tr>\n",
       "  </thead>\n",
       "  <tbody>\n",
       "    <tr>\n",
       "      <th>0</th>\n",
       "      <td>1.609460e+12</td>\n",
       "      <td>12/31/2020 23:59</td>\n",
       "      <td>BTCUSD</td>\n",
       "      <td>28993.75</td>\n",
       "      <td>28995.49</td>\n",
       "      <td>28951.44</td>\n",
       "      <td>28979.74</td>\n",
       "      <td>0.337088</td>\n",
       "    </tr>\n",
       "    <tr>\n",
       "      <th>1</th>\n",
       "      <td>1.609460e+12</td>\n",
       "      <td>12/31/2020 23:58</td>\n",
       "      <td>BTCUSD</td>\n",
       "      <td>29017.39</td>\n",
       "      <td>29019.86</td>\n",
       "      <td>28993.75</td>\n",
       "      <td>28993.75</td>\n",
       "      <td>0.079929</td>\n",
       "    </tr>\n",
       "    <tr>\n",
       "      <th>2</th>\n",
       "      <td>1.609460e+12</td>\n",
       "      <td>12/31/2020 23:57</td>\n",
       "      <td>BTCUSD</td>\n",
       "      <td>29035.97</td>\n",
       "      <td>29035.97</td>\n",
       "      <td>29017.39</td>\n",
       "      <td>29017.39</td>\n",
       "      <td>0.013799</td>\n",
       "    </tr>\n",
       "    <tr>\n",
       "      <th>3</th>\n",
       "      <td>1.609460e+12</td>\n",
       "      <td>12/31/2020 23:56</td>\n",
       "      <td>BTCUSD</td>\n",
       "      <td>29036.19</td>\n",
       "      <td>29036.19</td>\n",
       "      <td>29022.59</td>\n",
       "      <td>29035.97</td>\n",
       "      <td>0.199008</td>\n",
       "    </tr>\n",
       "    <tr>\n",
       "      <th>4</th>\n",
       "      <td>1.609460e+12</td>\n",
       "      <td>12/31/2020 23:55</td>\n",
       "      <td>BTCUSD</td>\n",
       "      <td>29043.69</td>\n",
       "      <td>29043.69</td>\n",
       "      <td>29025.75</td>\n",
       "      <td>29036.19</td>\n",
       "      <td>0.082642</td>\n",
       "    </tr>\n",
       "  </tbody>\n",
       "</table>\n",
       "</div>"
      ],
      "text/plain": [
       "   Unix Timestamp              Date  Symbol      Open      High       Low  \\\n",
       "0    1.609460e+12  12/31/2020 23:59  BTCUSD  28993.75  28995.49  28951.44   \n",
       "1    1.609460e+12  12/31/2020 23:58  BTCUSD  29017.39  29019.86  28993.75   \n",
       "2    1.609460e+12  12/31/2020 23:57  BTCUSD  29035.97  29035.97  29017.39   \n",
       "3    1.609460e+12  12/31/2020 23:56  BTCUSD  29036.19  29036.19  29022.59   \n",
       "4    1.609460e+12  12/31/2020 23:55  BTCUSD  29043.69  29043.69  29025.75   \n",
       "\n",
       "      Close    Volume  \n",
       "0  28979.74  0.337088  \n",
       "1  28993.75  0.079929  \n",
       "2  29017.39  0.013799  \n",
       "3  29035.97  0.199008  \n",
       "4  29036.19  0.082642  "
      ]
     },
     "execution_count": 68,
     "metadata": {},
     "output_type": "execute_result"
    }
   ],
   "source": [
    "gemini.head()"
   ]
  },
  {
   "cell_type": "code",
   "execution_count": 69,
   "id": "6b27bf20",
   "metadata": {},
   "outputs": [
    {
     "data": {
      "text/html": [
       "<div>\n",
       "<style scoped>\n",
       "    .dataframe tbody tr th:only-of-type {\n",
       "        vertical-align: middle;\n",
       "    }\n",
       "\n",
       "    .dataframe tbody tr th {\n",
       "        vertical-align: top;\n",
       "    }\n",
       "\n",
       "    .dataframe thead th {\n",
       "        text-align: right;\n",
       "    }\n",
       "</style>\n",
       "<table border=\"1\" class=\"dataframe\">\n",
       "  <thead>\n",
       "    <tr style=\"text-align: right;\">\n",
       "      <th></th>\n",
       "      <th>unix</th>\n",
       "      <th>date</th>\n",
       "      <th>symbol</th>\n",
       "      <th>open</th>\n",
       "      <th>high</th>\n",
       "      <th>low</th>\n",
       "      <th>close</th>\n",
       "      <th>Volume BTC</th>\n",
       "      <th>Volume USDT</th>\n",
       "      <th>tradecount</th>\n",
       "    </tr>\n",
       "  </thead>\n",
       "  <tbody>\n",
       "    <tr>\n",
       "      <th>0</th>\n",
       "      <td>1.628130e+12</td>\n",
       "      <td>8/5/2021 1:05</td>\n",
       "      <td>BTC/USDT</td>\n",
       "      <td>39369.67</td>\n",
       "      <td>39394.00</td>\n",
       "      <td>39338.53</td>\n",
       "      <td>39361.02</td>\n",
       "      <td>38.950155</td>\n",
       "      <td>1533056.492</td>\n",
       "      <td>2341</td>\n",
       "    </tr>\n",
       "    <tr>\n",
       "      <th>1</th>\n",
       "      <td>1.628130e+12</td>\n",
       "      <td>8/5/2021 1:04</td>\n",
       "      <td>BTC/USDT</td>\n",
       "      <td>39434.95</td>\n",
       "      <td>39436.77</td>\n",
       "      <td>39364.06</td>\n",
       "      <td>39369.67</td>\n",
       "      <td>46.405522</td>\n",
       "      <td>1827912.564</td>\n",
       "      <td>1604</td>\n",
       "    </tr>\n",
       "    <tr>\n",
       "      <th>2</th>\n",
       "      <td>1.628130e+12</td>\n",
       "      <td>8/5/2021 1:03</td>\n",
       "      <td>BTC/USDT</td>\n",
       "      <td>39396.36</td>\n",
       "      <td>39440.69</td>\n",
       "      <td>39363.55</td>\n",
       "      <td>39434.95</td>\n",
       "      <td>121.355510</td>\n",
       "      <td>4780574.713</td>\n",
       "      <td>3329</td>\n",
       "    </tr>\n",
       "    <tr>\n",
       "      <th>3</th>\n",
       "      <td>1.628130e+12</td>\n",
       "      <td>8/5/2021 1:02</td>\n",
       "      <td>BTC/USDT</td>\n",
       "      <td>39570.01</td>\n",
       "      <td>39570.01</td>\n",
       "      <td>39388.00</td>\n",
       "      <td>39396.36</td>\n",
       "      <td>207.697394</td>\n",
       "      <td>8198434.082</td>\n",
       "      <td>4960</td>\n",
       "    </tr>\n",
       "    <tr>\n",
       "      <th>4</th>\n",
       "      <td>1.628130e+12</td>\n",
       "      <td>8/5/2021 1:01</td>\n",
       "      <td>BTC/USDT</td>\n",
       "      <td>39592.99</td>\n",
       "      <td>39600.00</td>\n",
       "      <td>39559.77</td>\n",
       "      <td>39570.02</td>\n",
       "      <td>33.148678</td>\n",
       "      <td>1312016.761</td>\n",
       "      <td>1462</td>\n",
       "    </tr>\n",
       "  </tbody>\n",
       "</table>\n",
       "</div>"
      ],
      "text/plain": [
       "           unix           date    symbol      open      high       low  \\\n",
       "0  1.628130e+12  8/5/2021 1:05  BTC/USDT  39369.67  39394.00  39338.53   \n",
       "1  1.628130e+12  8/5/2021 1:04  BTC/USDT  39434.95  39436.77  39364.06   \n",
       "2  1.628130e+12  8/5/2021 1:03  BTC/USDT  39396.36  39440.69  39363.55   \n",
       "3  1.628130e+12  8/5/2021 1:02  BTC/USDT  39570.01  39570.01  39388.00   \n",
       "4  1.628130e+12  8/5/2021 1:01  BTC/USDT  39592.99  39600.00  39559.77   \n",
       "\n",
       "      close  Volume BTC  Volume USDT  tradecount  \n",
       "0  39361.02   38.950155  1533056.492        2341  \n",
       "1  39369.67   46.405522  1827912.564        1604  \n",
       "2  39434.95  121.355510  4780574.713        3329  \n",
       "3  39396.36  207.697394  8198434.082        4960  \n",
       "4  39570.02   33.148678  1312016.761        1462  "
      ]
     },
     "execution_count": 69,
     "metadata": {},
     "output_type": "execute_result"
    }
   ],
   "source": [
    "binance.head()"
   ]
  },
  {
   "cell_type": "code",
   "execution_count": 70,
   "id": "28045c62",
   "metadata": {},
   "outputs": [],
   "source": [
    "# Converting date column type to datetime\n",
    "bitsmap['date'] = pd.to_datetime(bitsmap['date'])\n",
    "gemini['Date'] = pd.to_datetime(gemini['Date'])\n",
    "binance['date'] = pd.to_datetime(binance['date'])"
   ]
  },
  {
   "cell_type": "code",
   "execution_count": 71,
   "id": "0499dfae",
   "metadata": {},
   "outputs": [],
   "source": [
    "binance = binance[(binance['date']> '2020') & (binance['date']<'2021')]"
   ]
  },
  {
   "cell_type": "code",
   "execution_count": 72,
   "id": "102c0553",
   "metadata": {},
   "outputs": [
    {
     "data": {
      "text/plain": [
       "<matplotlib.legend.Legend at 0x28c8c9eac88>"
      ]
     },
     "execution_count": 72,
     "metadata": {},
     "output_type": "execute_result"
    },
    {
     "data": {
      "image/png": "[encoded data removed]",
      "text/plain": [
       "<Figure size 720x576 with 3 Axes>"
      ]
     },
     "metadata": {
      "needs_background": "light"
     },
     "output_type": "display_data"
    }
   ],
   "source": [
    "\n",
    "# Plot the close price of both the exchanges\n",
    "fig, ax = plt.subplots(3, 1, figsize=(10, 8), sharex=True)\n",
    "ax[0].title.set_text('Close Price of BItsmap, Gemini and Binance')\n",
    "ax[0].plot(bitsmap['date'], bitsmap['close'], color='b', label='Bitsmap')\n",
    "ax[0].legend()\n",
    "ax[1].plot(gemini['Date'], gemini['Close'], color='r', label='Gemini')\n",
    "ax[1].legend()\n",
    "ax[2].plot(binance['date'], binance['close'], color='g', label='Binance')\n",
    "ax[2].legend()"
   ]
  },
  {
   "cell_type": "code",
   "execution_count": 73,
   "id": "af9ade29",
   "metadata": {},
   "outputs": [],
   "source": [
    "# Renaming the columns of bitsmap \n",
    "bitsmap.rename(columns = {'close':'Close','date':'Date'}, inplace = True)\n",
    "binance.rename(columns = {'close':'Close','date':'Date'}, inplace = True)\n",
    "\n",
    "# filtering the data to only data and close value\n",
    "bitsmap = bitsmap[['Date','Close']]\n",
    "gemini = gemini[['Date','Close']]\n",
    "df1 = bitsmap.merge(gemini, on = 'Date', how = 'inner', right_index = False)\n",
    "df2 = bitsmap.merge(binance, on = 'Date', how = 'inner', right_index = False)\n",
    "df3 = gemini.merge(binance, on = 'Date', how = 'inner', right_index = False)\n",
    "\n",
    "# Sorting the values according to date\n",
    "df1.sort_values('Date', inplace = True)\n",
    "df2.sort_values('Date', inplace = True)\n",
    "df3.sort_values('Date', inplace = True)"
   ]
  },
  {
   "cell_type": "code",
   "execution_count": 74,
   "id": "230970f9",
   "metadata": {},
   "outputs": [],
   "source": [
    "# Calculating the cross corelation using scipy.signal.correlate function and method fft\n",
    "corr1 = correlate(df1['Close_x'] , df1['Close_y'], mode='same', method='fft') \n",
    "corr2 = correlate(df2['Close_x'] , df2['Close_y'], mode='same', method='fft') \n",
    "corr3 = correlate(df3['Close_x'] , df3['Close_y'], mode='same', method='fft') "
   ]
  },
  {
   "cell_type": "code",
   "execution_count": 75,
   "id": "c307c1fc",
   "metadata": {},
   "outputs": [
    {
     "data": {
      "text/plain": [
       "<matplotlib.legend.Legend at 0x28d0bb799b0>"
      ]
     },
     "execution_count": 75,
     "metadata": {},
     "output_type": "execute_result"
    },
    {
     "data": {
      "image/png": "[encoded data removed]",
      "text/plain": [
       "<Figure size 1080x576 with 3 Axes>"
      ]
     },
     "metadata": {
      "needs_background": "light"
     },
     "output_type": "display_data"
    }
   ],
   "source": [
    "# plot for cross corelation for full year \n",
    "fig, ax = plt.subplots(3, 1, figsize=(15, 8), sharex=True)\n",
    "ax[0].title.set_text('Cross Correlation between Bitsmap and Gemini')\n",
    "ax[0].plot(df1['Date'], corr1, color='b', label='Bitsmap and Gemini')\n",
    "ax[0].legend()\n",
    "ax[1].title.set_text('Cross Correlation between Bitsmap and Binance')\n",
    "ax[1].plot(df2['Date'], corr2, color='r', label='Bitsmap and Binance')\n",
    "ax[1].legend()\n",
    "ax[2].title.set_text('Cross Correlation between Gemini and Binance')\n",
    "ax[2].plot(df3['Date'], corr3, color='g', label='Gemini and Binance')\n",
    "ax[2].legend()"
   ]
  },
  {
   "cell_type": "code",
   "execution_count": 76,
   "id": "b645f022",
   "metadata": {},
   "outputs": [
    {
     "name": "stdout",
     "output_type": "stream",
     "text": [
      "Delay between bitsmap and gemini :  -1\n"
     ]
    }
   ],
   "source": [
    "# time delay between the bitsmap and gemini for full year 2020\n",
    "def compute_delay(x, y):\n",
    "#     assert len(x) == len(y)\n",
    "    c = correlate(x, y, mode='same', method='fft')\n",
    "    assert len(c) == len(x)\n",
    "    zero_index = int(len(x) / 2) - 1\n",
    "    delay = zero_index - np.argmax(c)\n",
    "    return delay\n",
    "\n",
    "delay = compute_delay(df1['Close_x'] , df1['Close_y'])\n",
    "print('Delay between bitsmap and gemini : ',delay)\n"
   ]
  },
  {
   "cell_type": "code",
   "execution_count": 78,
   "id": "5bac2144",
   "metadata": {},
   "outputs": [],
   "source": [
    "df = df1"
   ]
  },
  {
   "cell_type": "code",
   "execution_count": 79,
   "id": "02af725a",
   "metadata": {},
   "outputs": [
    {
     "name": "stdout",
     "output_type": "stream",
     "text": [
      "-1\n"
     ]
    }
   ],
   "source": [
    "# time delay between the bitsmap and gemini for january 2020\n",
    "new_df = df[df['Date']<'2020-02']\n",
    "corr = correlate(new_df['Close_x'], new_df['Close_y'], mode='same')\n",
    "delay = compute_delay(new_df['Close_x'], new_df['Close_y'])\n",
    "print(delay)"
   ]
  },
  {
   "cell_type": "code",
   "execution_count": 80,
   "id": "6bc7b525",
   "metadata": {},
   "outputs": [
    {
     "name": "stdout",
     "output_type": "stream",
     "text": [
      "-1\n"
     ]
    }
   ],
   "source": [
    "# time delay between the bitsmap and gemini for February 2020\n",
    "new_df = df[(df['Date']<'2020-03') & (df['Date']>'2020-02')] \n",
    "delay = compute_delay(new_df['Close_x'], new_df['Close_y'])\n",
    "print(delay)"
   ]
  },
  {
   "cell_type": "code",
   "execution_count": 81,
   "id": "be02ddee",
   "metadata": {},
   "outputs": [
    {
     "name": "stdout",
     "output_type": "stream",
     "text": [
      "-1\n"
     ]
    }
   ],
   "source": [
    "# time delay between the bitsmap and gemini for March 2020\n",
    "new_df = df[(df['Date']<'2020-04') & (df['Date']>'2020-03')]\n",
    "delay = compute_delay(new_df['Close_x'], new_df['Close_y'])\n",
    "print(delay)"
   ]
  },
  {
   "cell_type": "code",
   "execution_count": 82,
   "id": "b99d5642",
   "metadata": {},
   "outputs": [
    {
     "name": "stdout",
     "output_type": "stream",
     "text": [
      "-1\n"
     ]
    }
   ],
   "source": [
    "# time delay between the bitsmap and gemini for July 2020\n",
    "new_df = df[(df['Date']<'2020-08') & (df['Date']>'2020-07')]\n",
    "delay = compute_delay(new_df['Close_x'], new_df['Close_y'])\n",
    "print(delay)"
   ]
  },
  {
   "cell_type": "code",
   "execution_count": 83,
   "id": "eb02ca47",
   "metadata": {},
   "outputs": [],
   "source": [
    "correlation_df = pd.DataFrame(columns = ['Bitsmap/Gemini','Bitsmap/Binance','Gemini/Binance'])\n",
    "correlation_df['Bitsmap/Gemini'] = corr1\n",
    "correlation_df['Bitsmap/Binance'] = corr2[:len(correlation_df)]\n",
    "correlation_df['Gemini/Binance'] = corr3[:len(correlation_df)]"
   ]
  },
  {
   "cell_type": "code",
   "execution_count": 84,
   "id": "5ac12d18",
   "metadata": {},
   "outputs": [
    {
     "data": {
      "text/plain": [
       "<AxesSubplot:>"
      ]
     },
     "execution_count": 84,
     "metadata": {},
     "output_type": "execute_result"
    },
    {
     "data": {
      "image/png": "[encoded data removed]",
      "text/plain": [
       "<Figure size 432x288 with 2 Axes>"
      ]
     },
     "metadata": {
      "needs_background": "light"
     },
     "output_type": "display_data"
    }
   ],
   "source": [
    "import seaborn as sns\n",
    "sns.heatmap(correlation_df.corr(),annot=True,linecolor=\"blue\",fmt=\".2f\")"
   ]
  },
  {
   "cell_type": "code",
   "execution_count": null,
   "id": "06e4ea85",
   "metadata": {},
   "outputs": [],
   "source": []
  }
 ],
 "metadata": {
  "kernelspec": {
   "display_name": "Python 3 (ipykernel)",
   "language": "python",
   "name": "python3"
  },
  "language_info": {
   "codemirror_mode": {
    "name": "ipython",
    "version": 3
   },
   "file_extension": ".py",
   "mimetype": "text/x-python",
   "name": "python",
   "nbconvert_exporter": "python",
   "pygments_lexer": "ipython3",
   "version": "3.7.3"
  }
 },
 "nbformat": 4,
 "nbformat_minor": 5
}
